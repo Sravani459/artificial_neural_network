{
  "nbformat": 4,
  "nbformat_minor": 0,
  "metadata": {
    "colab": {
      "name": "pytorch_basics_with_simpleneuralnetwork.ipynb",
      "provenance": [],
      "collapsed_sections": []
    },
    "kernelspec": {
      "name": "python3",
      "display_name": "Python 3"
    }
  },
  "cells": [
    {
      "cell_type": "code",
      "metadata": {
        "id": "2Sgjy6eFnfi9",
        "colab_type": "code",
        "colab": {}
      },
      "source": [
        "import numpy as np\n",
        "import torch"
      ],
      "execution_count": 0,
      "outputs": []
    },
    {
      "cell_type": "code",
      "metadata": {
        "id": "rw8Kyf8wxbsm",
        "colab_type": "code",
        "colab": {
          "base_uri": "https://localhost:8080/",
          "height": 50
        },
        "outputId": "5e4a9aba-b2a7-40dd-ad7f-fae2678355b5"
      },
      "source": [
        "# initializing a numpy array\n",
        "a = np.array(1)\n",
        "\n",
        "# initializing a tensor\n",
        "b = torch.tensor(1)\n",
        "\n",
        "print(a)\n",
        "print(b)"
      ],
      "execution_count": 2,
      "outputs": [
        {
          "output_type": "stream",
          "text": [
            "1\n",
            "tensor(1)\n"
          ],
          "name": "stdout"
        }
      ]
    },
    {
      "cell_type": "code",
      "metadata": {
        "id": "FqAbapoexixv",
        "colab_type": "code",
        "colab": {}
      },
      "source": [
        "type(a), type(b)"
      ],
      "execution_count": 0,
      "outputs": []
    },
    {
      "cell_type": "code",
      "metadata": {
        "id": "ZPf_hIwuxzIX",
        "colab_type": "code",
        "colab": {
          "base_uri": "https://localhost:8080/",
          "height": 67
        },
        "outputId": "620243bc-1dfa-414e-a80e-43936083eb62"
      },
      "source": [
        "# initializing two tensors\n",
        "a = torch.tensor(2)\n",
        "b = torch.tensor(1)\n",
        "print(a,b)\n",
        "print(a+b)\n",
        "print(a-b)"
      ],
      "execution_count": 3,
      "outputs": [
        {
          "output_type": "stream",
          "text": [
            "tensor(2) tensor(1)\n",
            "tensor(3)\n",
            "tensor(1)\n"
          ],
          "name": "stdout"
        }
      ]
    },
    {
      "cell_type": "code",
      "metadata": {
        "id": "SrMNgKZ6x3VZ",
        "colab_type": "code",
        "colab": {
          "base_uri": "https://localhost:8080/",
          "height": 84
        },
        "outputId": "d62551f9-5e59-4823-f168-efdaae562ac7"
      },
      "source": [
        "a = torch.zeros((3,3))\n",
        "print(a)\n",
        "print(a.shape)"
      ],
      "execution_count": 4,
      "outputs": [
        {
          "output_type": "stream",
          "text": [
            "tensor([[0., 0., 0.],\n",
            "        [0., 0., 0.],\n",
            "        [0., 0., 0.]])\n",
            "torch.Size([3, 3])\n"
          ],
          "name": "stdout"
        }
      ]
    },
    {
      "cell_type": "code",
      "metadata": {
        "id": "I4-H-eo-yCNj",
        "colab_type": "code",
        "colab": {
          "base_uri": "https://localhost:8080/",
          "height": 67
        },
        "outputId": "50111207-b531-420d-9297-39ddab237ce7"
      },
      "source": [
        "torch.manual_seed(42)\n",
        "# matrix of random numbers\n",
        "a = torch.randn(3,3)\n",
        "a"
      ],
      "execution_count": 5,
      "outputs": [
        {
          "output_type": "execute_result",
          "data": {
            "text/plain": [
              "tensor([[ 0.3367,  0.1288,  0.2345],\n",
              "        [ 0.2303, -1.1229, -0.1863],\n",
              "        [ 2.2082, -0.6380,  0.4617]])"
            ]
          },
          "metadata": {
            "tags": []
          },
          "execution_count": 5
        }
      ]
    },
    {
      "cell_type": "code",
      "metadata": {
        "id": "qUD60Ac7yG_5",
        "colab_type": "code",
        "colab": {}
      },
      "source": [
        "torch.manual_seed(42)\n",
        "a = torch.randn(3,3)\n",
        "b = torch.randn(3,3)"
      ],
      "execution_count": 0,
      "outputs": []
    },
    {
      "cell_type": "code",
      "metadata": {
        "id": "Ed4zFUL4yLsq",
        "colab_type": "code",
        "colab": {
          "base_uri": "https://localhost:8080/",
          "height": 269
        },
        "outputId": "03190dd3-c9e1-453b-8ca1-84a1ebe8be2c"
      },
      "source": [
        "# matrix addition\n",
        "print(torch.add(a,b), '\\n')\n",
        "\n",
        "# matrix subtraction\n",
        "print(torch.sub(a,b), '\\n')\n",
        "\n",
        "# matrix multiplication\n",
        "print(torch.mm(a,b), '\\n')\n",
        "\n",
        "# matrix division\n",
        "print(torch.div(a,b))"
      ],
      "execution_count": 7,
      "outputs": [
        {
          "output_type": "stream",
          "text": [
            "tensor([[ 0.6040,  0.6637,  1.0438],\n",
            "        [ 1.3406, -2.8127, -1.1753],\n",
            "        [ 3.1662,  0.6841,  1.2788]]) \n",
            "\n",
            "tensor([[ 0.0693, -0.4061, -0.5749],\n",
            "        [-0.8800,  0.5669,  0.8026],\n",
            "        [ 1.2502, -1.9601, -0.3555]]) \n",
            "\n",
            "tensor([[ 0.4576,  0.2724,  0.3367],\n",
            "        [-1.3636,  1.7743,  1.1446],\n",
            "        [ 0.3243,  2.8696,  2.7954]]) \n",
            "\n",
            "tensor([[ 1.2594,  0.2408,  0.2897],\n",
            "        [ 0.2075,  0.6645,  0.1884],\n",
            "        [ 2.3051, -0.4826,  0.5649]])\n"
          ],
          "name": "stdout"
        }
      ]
    },
    {
      "cell_type": "code",
      "metadata": {
        "id": "HvbcdzbdyQnT",
        "colab_type": "code",
        "colab": {
          "base_uri": "https://localhost:8080/",
          "height": 134
        },
        "outputId": "273475d3-33ec-42f9-90cf-13e7f81108bb"
      },
      "source": [
        "# original matrix\n",
        "print(a, '\\n')\n",
        "\n",
        "# matrix transpose\n",
        "torch.t(a)"
      ],
      "execution_count": 8,
      "outputs": [
        {
          "output_type": "stream",
          "text": [
            "tensor([[ 0.3367,  0.1288,  0.2345],\n",
            "        [ 0.2303, -1.1229, -0.1863],\n",
            "        [ 2.2082, -0.6380,  0.4617]]) \n",
            "\n"
          ],
          "name": "stdout"
        },
        {
          "output_type": "execute_result",
          "data": {
            "text/plain": [
              "tensor([[ 0.3367,  0.2303,  2.2082],\n",
              "        [ 0.1288, -1.1229, -0.6380],\n",
              "        [ 0.2345, -0.1863,  0.4617]])"
            ]
          },
          "metadata": {
            "tags": []
          },
          "execution_count": 8
        }
      ]
    },
    {
      "cell_type": "code",
      "metadata": {
        "id": "fk8e6DQXyVNF",
        "colab_type": "code",
        "colab": {
          "base_uri": "https://localhost:8080/",
          "height": 101
        },
        "outputId": "152eabfe-5172-4ddf-8b26-1801e482e9f3"
      },
      "source": [
        "# initializing two tensors\n",
        "a = torch.tensor([[1,2],[3,4]])\n",
        "b = torch.tensor([[5,6],[7,8]])\n",
        "print(a, '\\n')\n",
        "print(b)"
      ],
      "execution_count": 9,
      "outputs": [
        {
          "output_type": "stream",
          "text": [
            "tensor([[1, 2],\n",
            "        [3, 4]]) \n",
            "\n",
            "tensor([[5, 6],\n",
            "        [7, 8]])\n"
          ],
          "name": "stdout"
        }
      ]
    },
    {
      "cell_type": "code",
      "metadata": {
        "id": "YJQMuG_KyZDT",
        "colab_type": "code",
        "colab": {
          "base_uri": "https://localhost:8080/",
          "height": 84
        },
        "outputId": "07b799fa-2942-4877-82c1-2f7b257757ac"
      },
      "source": [
        "# concatenating vertically\n",
        "torch.cat((a,b))"
      ],
      "execution_count": 10,
      "outputs": [
        {
          "output_type": "execute_result",
          "data": {
            "text/plain": [
              "tensor([[1, 2],\n",
              "        [3, 4],\n",
              "        [5, 6],\n",
              "        [7, 8]])"
            ]
          },
          "metadata": {
            "tags": []
          },
          "execution_count": 10
        }
      ]
    },
    {
      "cell_type": "code",
      "metadata": {
        "id": "pG6RZY0QydOe",
        "colab_type": "code",
        "colab": {
          "base_uri": "https://localhost:8080/",
          "height": 50
        },
        "outputId": "7e41ac71-7254-4161-ad85-947a0bf4c03c"
      },
      "source": [
        "torch.cat((a,b),dim=1)"
      ],
      "execution_count": 11,
      "outputs": [
        {
          "output_type": "execute_result",
          "data": {
            "text/plain": [
              "tensor([[1, 2, 5, 6],\n",
              "        [3, 4, 7, 8]])"
            ]
          },
          "metadata": {
            "tags": []
          },
          "execution_count": 11
        }
      ]
    },
    {
      "cell_type": "code",
      "metadata": {
        "id": "xGAobz9jyixF",
        "colab_type": "code",
        "colab": {
          "base_uri": "https://localhost:8080/",
          "height": 67
        },
        "outputId": "412b8650-5cd6-4bbe-d974-39c157cc80eb"
      },
      "source": [
        "# setting the random seed for pytorch\n",
        "torch.manual_seed(42)\n",
        "# initializing tensor\n",
        "a = torch.randn(2,4)\n",
        "print(a)\n",
        "a.shape"
      ],
      "execution_count": 12,
      "outputs": [
        {
          "output_type": "stream",
          "text": [
            "tensor([[ 0.3367,  0.1288,  0.2345,  0.2303],\n",
            "        [-1.1229, -0.1863,  2.2082, -0.6380]])\n"
          ],
          "name": "stdout"
        },
        {
          "output_type": "execute_result",
          "data": {
            "text/plain": [
              "torch.Size([2, 4])"
            ]
          },
          "metadata": {
            "tags": []
          },
          "execution_count": 12
        }
      ]
    },
    {
      "cell_type": "code",
      "metadata": {
        "id": "b9QoEFIzynfJ",
        "colab_type": "code",
        "colab": {
          "base_uri": "https://localhost:8080/",
          "height": 50
        },
        "outputId": "a11e0674-71a8-4641-a6cb-999bd2b3c68c"
      },
      "source": [
        "# reshaping tensor\n",
        "b = a.reshape(1,8)\n",
        "print(b)\n",
        "b.shape"
      ],
      "execution_count": 13,
      "outputs": [
        {
          "output_type": "stream",
          "text": [
            "tensor([[ 0.3367,  0.1288,  0.2345,  0.2303, -1.1229, -0.1863,  2.2082, -0.6380]])\n"
          ],
          "name": "stdout"
        },
        {
          "output_type": "execute_result",
          "data": {
            "text/plain": [
              "torch.Size([1, 8])"
            ]
          },
          "metadata": {
            "tags": []
          },
          "execution_count": 13
        }
      ]
    },
    {
      "cell_type": "code",
      "metadata": {
        "id": "r9EzdIlNytrj",
        "colab_type": "code",
        "colab": {
          "base_uri": "https://localhost:8080/",
          "height": 101
        },
        "outputId": "1b097f5a-3181-498f-d5f4-8cd853e2bea2"
      },
      "source": [
        "# initializing a numpy array\n",
        "a = np.array([[1,2],[3,4]])\n",
        "print(a, '\\n')\n",
        "\n",
        "# converting the numpy array to tensor\n",
        "tensor = torch.from_numpy(a)\n",
        "print(tensor)"
      ],
      "execution_count": 14,
      "outputs": [
        {
          "output_type": "stream",
          "text": [
            "[[1 2]\n",
            " [3 4]] \n",
            "\n",
            "tensor([[1, 2],\n",
            "        [3, 4]])\n"
          ],
          "name": "stdout"
        }
      ]
    },
    {
      "cell_type": "code",
      "metadata": {
        "id": "6lcQ-Mapy2ZM",
        "colab_type": "code",
        "colab": {
          "base_uri": "https://localhost:8080/",
          "height": 50
        },
        "outputId": "b7c0cf28-1e73-456f-d040-57c3536c5538"
      },
      "source": [
        "# initializing a tensor\n",
        "a = torch.ones((2,2), requires_grad=True)\n",
        "a"
      ],
      "execution_count": 15,
      "outputs": [
        {
          "output_type": "execute_result",
          "data": {
            "text/plain": [
              "tensor([[1., 1.],\n",
              "        [1., 1.]], requires_grad=True)"
            ]
          },
          "metadata": {
            "tags": []
          },
          "execution_count": 15
        }
      ]
    },
    {
      "cell_type": "code",
      "metadata": {
        "id": "nPg1lgbXy6TE",
        "colab_type": "code",
        "colab": {
          "base_uri": "https://localhost:8080/",
          "height": 50
        },
        "outputId": "c1a12935-3564-44b7-d025-c51e76fbf1f9"
      },
      "source": [
        "# performing operations on the tensor\n",
        "b = a + 5\n",
        "c = b.mean()\n",
        "print(b,c)"
      ],
      "execution_count": 16,
      "outputs": [
        {
          "output_type": "stream",
          "text": [
            "tensor([[6., 6.],\n",
            "        [6., 6.]], grad_fn=<AddBackward0>) tensor(6., grad_fn=<MeanBackward0>)\n"
          ],
          "name": "stdout"
        }
      ]
    },
    {
      "cell_type": "code",
      "metadata": {
        "id": "DJBYSw_uzAmj",
        "colab_type": "code",
        "colab": {}
      },
      "source": [
        "# importing the optim module\n",
        "from torch import optim\n",
        "\n",
        "# adam\n",
        "## adam = optim.Adam(model.parameters(), lr=learning_rate)\n",
        "\n",
        "# sgd\n",
        "## SGD = optim.SGD(model.parameters(), lr=learning_rate)"
      ],
      "execution_count": 0,
      "outputs": []
    },
    {
      "cell_type": "code",
      "metadata": {
        "id": "hjXjxVGfzEb5",
        "colab_type": "code",
        "colab": {
          "base_uri": "https://localhost:8080/",
          "height": 134
        },
        "outputId": "0c818c1d-2dff-4f20-c62d-c878bf84f48e"
      },
      "source": [
        "#Input tensor\n",
        "X = torch.Tensor([[1,0,1,0],[1,0,1,1],[0,1,0,1]])\n",
        "\n",
        "#Output\n",
        "y = torch.Tensor([[1],[1],[0]])\n",
        "\n",
        "print(X, '\\n')\n",
        "print(y)"
      ],
      "execution_count": 18,
      "outputs": [
        {
          "output_type": "stream",
          "text": [
            "tensor([[1., 0., 1., 0.],\n",
            "        [1., 0., 1., 1.],\n",
            "        [0., 1., 0., 1.]]) \n",
            "\n",
            "tensor([[1.],\n",
            "        [1.],\n",
            "        [0.]])\n"
          ],
          "name": "stdout"
        }
      ]
    },
    {
      "cell_type": "code",
      "metadata": {
        "id": "WJi-_DItzIoD",
        "colab_type": "code",
        "colab": {}
      },
      "source": [
        "#Sigmoid Function\n",
        "def sigmoid (x):\n",
        "    return 1/(1 + torch.exp(-x))\n",
        "\n",
        "#Derivative of Sigmoid Function/\n",
        "def derivatives_sigmoid(x):\n",
        "    return sigmoid(x) * (1 - sigmoid(x))"
      ],
      "execution_count": 0,
      "outputs": []
    },
    {
      "cell_type": "code",
      "metadata": {
        "id": "GA-fSckNzNhS",
        "colab_type": "code",
        "colab": {
          "base_uri": "https://localhost:8080/",
          "height": 168
        },
        "outputId": "7a12c2df-f23d-4940-ba22-823494ec027a"
      },
      "source": [
        "#Variable initialization\n",
        "epoch=7000 #Setting training iterations\n",
        "lr=0.1 #Setting learning rate\n",
        "inputlayer_neurons = X.shape[1] #number of features in data set\n",
        "hiddenlayer_neurons = 3 #number of hidden layer neurons\n",
        "output_neurons = 1 #number of neurons in output layer\n",
        "\n",
        "#weight and bias initialization\n",
        "wh=torch.randn(inputlayer_neurons, hiddenlayer_neurons).type(torch.FloatTensor)\n",
        "bh=torch.randn(1, hiddenlayer_neurons).type(torch.FloatTensor)\n",
        "wout=torch.randn(hiddenlayer_neurons, output_neurons)\n",
        "bout=torch.randn(1, output_neurons)\n",
        "print(wh)\n",
        "print(bh)\n",
        "print(wout)\n",
        "print(bout)\n"
      ],
      "execution_count": 20,
      "outputs": [
        {
          "output_type": "stream",
          "text": [
            "tensor([[ 0.4617,  0.2674,  0.5349],\n",
            "        [ 0.8094,  1.1103, -1.6898],\n",
            "        [-0.9890,  0.9580,  1.3221],\n",
            "        [ 0.8172, -0.7658, -0.7506]])\n",
            "tensor([[ 1.3525,  0.6863, -0.3278]])\n",
            "tensor([[0.7950],\n",
            "        [0.2815],\n",
            "        [0.0562]])\n",
            "tensor([[0.5227]])\n"
          ],
          "name": "stdout"
        }
      ]
    },
    {
      "cell_type": "code",
      "metadata": {
        "id": "uLJoOAImzSMI",
        "colab_type": "code",
        "colab": {}
      },
      "source": [
        "for i in range(epoch):\n",
        "    #Forward Propogation\n",
        "    hidden_layer_input1 = torch.mm(X, wh)\n",
        "    hidden_layer_input = hidden_layer_input1 + bh\n",
        "    hidden_layer_activations = sigmoid(hidden_layer_input)\n",
        "\n",
        "    output_layer_input1 = torch.mm(hidden_layer_activations, wout)\n",
        "    output_layer_input = output_layer_input1 + bout\n",
        "    output = sigmoid(output_layer_input)\n",
        "\n",
        "    #Backpropagation\n",
        "    E = y-output\n",
        "    slope_output_layer = derivatives_sigmoid(output)\n",
        "    slope_hidden_layer = derivatives_sigmoid(hidden_layer_activations)\n",
        "    d_output = E * slope_output_layer\n",
        "    Error_at_hidden_layer = torch.mm(d_output, wout.t())\n",
        "    d_hiddenlayer = Error_at_hidden_layer * slope_hidden_layer\n",
        "    wout += torch.mm(hidden_layer_activations.t(), d_output) *lr\n",
        "    bout += d_output.sum() *lr\n",
        "    wh += torch.mm(X.t(), d_hiddenlayer) *lr\n",
        "    bh += d_output.sum() *lr"
      ],
      "execution_count": 0,
      "outputs": []
    },
    {
      "cell_type": "code",
      "metadata": {
        "id": "qjoK7pXHzXTt",
        "colab_type": "code",
        "colab": {
          "base_uri": "https://localhost:8080/",
          "height": 168
        },
        "outputId": "87c17eef-3e24-4fb5-d709-d7d07e5f8b53"
      },
      "source": [
        "print('actual :\\n', y, '\\n')\n",
        "print('predicted :\\n', output)"
      ],
      "execution_count": 23,
      "outputs": [
        {
          "output_type": "stream",
          "text": [
            "actual :\n",
            " tensor([[1.],\n",
            "        [1.],\n",
            "        [0.]]) \n",
            "\n",
            "predicted :\n",
            " tensor([[0.9980],\n",
            "        [0.9964],\n",
            "        [0.0053]])\n"
          ],
          "name": "stdout"
        }
      ]
    }
  ]
}